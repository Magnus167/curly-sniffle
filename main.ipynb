{
 "cells": [
  {
   "cell_type": "code",
   "execution_count": 292,
   "metadata": {},
   "outputs": [],
   "source": [
    "#imports\n",
    "from PIL import Image\n",
    "import numpy as np\n",
    "from numpy import array\n",
    "from os import path\n",
    "import cv2\n",
    "import matplotlib.pyplot as plt\n",
    "from time import sleep"
   ]
  },
  {
   "cell_type": "code",
   "execution_count": 293,
   "metadata": {},
   "outputs": [],
   "source": [
    "def load_png_to_array(fileName='./img.png'): # loads and returns png as a numpy array\n",
    "    img = Image.open(fileName)\n",
    "    img = img.convert('L') # convert to grayscale\n",
    "    img = np.array(img)\n",
    "    return img"
   ]
  },
  {
   "cell_type": "code",
   "execution_count": 294,
   "metadata": {},
   "outputs": [],
   "source": [
    "def reduce_line_thickness(img, factor=2): # applies gaussian blur to img\n",
    "    img = cv2.GaussianBlur(img, (3, 3), 0)\n",
    "    # save image\n",
    "    #cv2.imwrite('blurred.png', img)\n",
    "    return img"
   ]
  },
  {
   "cell_type": "code",
   "execution_count": 295,
   "metadata": {},
   "outputs": [],
   "source": [
    "def is_approximately_equal(a, b, epsilon=0.0001): # boolean, if a and b are approximately equal\n",
    "    return abs(a - b) < epsilon"
   ]
  },
  {
   "cell_type": "code",
   "execution_count": 296,
   "metadata": {},
   "outputs": [],
   "source": [
    "def fits_in_line(line=[[0, 0], [1, 1]], point=[0, 0]):\n",
    "    '''\n",
    "    (y3-y2)/(x3-x2) = (y2-y1)/(x2-x1)\n",
    "    ->(y3-y2)*(x2-x1) = (y2-y1)*(x3-x2) avoids division by zero explosive values\n",
    "    '''\n",
    "    return is_approximately_equal((point[0] - line[-1][0])*(line[-1][1] - line[-2][1]) , (line[-1][0] - line[-2][0])*(point[1] - line[-1][1]))"
   ]
  },
  {
   "cell_type": "code",
   "execution_count": 297,
   "metadata": {},
   "outputs": [],
   "source": [
    "def pts_to_lines(p): # converts a list of points to a list of lines, where each line is a list of points.   \n",
    "    lines = [[p[0], p[1] if len(p)>1 else p[0]]]\n",
    "    for i in range(2, len(p)-2):\n",
    "        if fits_in_line(lines[-1], p[i]):\n",
    "            lines[-1].append(p[i])\n",
    "        else:\n",
    "            lines.append([p[i-1],p[i]])\n",
    "    for l in range(len(lines))[::-1]:\n",
    "        if len(lines[l]) < 2:\n",
    "            lines.pop(l)\n",
    "    return lines"
   ]
  },
  {
   "cell_type": "code",
   "execution_count": 298,
   "metadata": {},
   "outputs": [],
   "source": [
    "def get_centre_of_mass(pts): # gets com of a list of points\n",
    "    x = 0\n",
    "    y = 0\n",
    "    for p in pts:\n",
    "        x += p[0]\n",
    "        y += p[1]\n",
    "    return [int(x/len(pts)), int(y/len(pts))]"
   ]
  },
  {
   "cell_type": "code",
   "execution_count": 299,
   "metadata": {},
   "outputs": [],
   "source": [
    "def get_polar_coordinates(pts, centre): # gets polar coordinates of a list of points, with respect to a centre=get_centre_of_mass(pts)\n",
    "    polar_pts = []\n",
    "    for p in pts:\n",
    "        polar_pts.append([np.sqrt((p[0]-centre[0])**2 + (p[1]-centre[1])**2), np.arctan2(p[1]-centre[1], p[0]-centre[0])])\n",
    "    return polar_pts\n",
    "    # get_centre_of_mass(pts) can be called here as well, however this allows you to set a centre without editing this fx."
   ]
  },
  {
   "cell_type": "code",
   "execution_count": 300,
   "metadata": {},
   "outputs": [],
   "source": [
    "def sort_by_angle(pts): \n",
    "\n",
    "    plrcrds = get_polar_coordinates(pts, get_centre_of_mass(pts))\n",
    "    combined = [[plrcrds[i], pts[i]] for i in range(len(pts))]\n",
    "    combined = sorted(combined, key=lambda x: x[0][1])\n",
    "    return [p[1] for p in combined]"
   ]
  },
  {
   "cell_type": "code",
   "execution_count": 301,
   "metadata": {},
   "outputs": [],
   "source": [
    "def trace_line(img):\n",
    "    ''' find all black pixels in image '''\n",
    "    black_pixels = []\n",
    "    for i in range(img.shape[0]):\n",
    "        for j in range(img.shape[1]):\n",
    "            if img[i][j] == 0:\n",
    "                black_pixels.append((i,j))\n",
    "    print('Found {} black pixels'.format(len(black_pixels)))\n",
    "    print('Ratio to white',len(black_pixels)/(img.shape[0]*img.shape[1]))  \n",
    "    print ('!Sorted by angle') \n",
    "    print (black_pixels)\n",
    "    black_pixels = sort_by_angle(black_pixels)   \n",
    "    print ('Sorted by angle') \n",
    "    print (black_pixels)\n",
    "    lines = pts_to_lines(black_pixels)\n",
    "    print('As lines')\n",
    "    print(lines)\n",
    "    return lines\n",
    "    "
   ]
  },
  {
   "cell_type": "code",
   "execution_count": 302,
   "metadata": {},
   "outputs": [],
   "source": [
    "def create_new_img(img, lines):\n",
    "    new_img = np.zeros(img.shape)\n",
    "    pts = np.where(img == 0)\n",
    "    img[pts] = 255\n",
    "    plt.plot(pts[1], pts[0], 'r.')\n",
    "    return new_img"
   ]
  },
  {
   "cell_type": "code",
   "execution_count": 303,
   "metadata": {},
   "outputs": [
    {
     "name": "stdout",
     "output_type": "stream",
     "text": [
      "Found 85 black pixels\n",
      "Ratio to white 0.000587121997043668\n",
      "!Sorted by angle\n",
      "[(76, 179), (76, 180), (76, 181), (76, 182), (76, 183), (76, 184), (76, 185), (76, 186), (76, 187), (76, 188), (76, 189), (76, 190), (76, 191), (76, 192), (76, 193), (76, 194), (78, 201), (78, 202), (78, 203), (84, 144), (89, 224), (154, 68), (155, 68), (156, 68), (157, 68), (158, 68), (159, 68), (160, 68), (161, 68), (162, 68), (163, 68), (164, 68), (165, 68), (166, 68), (167, 68), (168, 68), (172, 275), (173, 69), (173, 275), (174, 69), (174, 275), (175, 69), (175, 275), (176, 69), (176, 275), (177, 275), (178, 275), (179, 275), (180, 275), (181, 275), (182, 70), (182, 275), (183, 70), (183, 275), (184, 275), (185, 275), (189, 71), (190, 71), (194, 73), (197, 74), (198, 74), (199, 74), (200, 74), (201, 74), (205, 73), (206, 73), (210, 72), (211, 72), (229, 89), (229, 90), (229, 91), (229, 92), (229, 93), (229, 94), (229, 95), (229, 96), (229, 97), (229, 98), (231, 105), (248, 123), (292, 161), (293, 153), (293, 154), (293, 155), (293, 156)]\n",
      "Sorted by angle\n",
      "[(154, 68), (155, 68), (156, 68), (157, 68), (158, 68), (159, 68), (160, 68), (161, 68), (162, 68), (163, 68), (164, 68), (165, 68), (166, 68), (167, 68), (168, 68), (173, 69), (174, 69), (175, 69), (176, 69), (182, 70), (183, 70), (189, 71), (190, 71), (194, 73), (197, 74), (198, 74), (199, 74), (200, 74), (201, 74), (205, 73), (206, 73), (210, 72), (211, 72), (229, 89), (229, 90), (229, 91), (229, 92), (229, 93), (229, 94), (229, 95), (229, 96), (229, 97), (229, 98), (231, 105), (248, 123), (293, 153), (293, 154), (293, 155), (293, 156), (292, 161), (185, 275), (184, 275), (183, 275), (182, 275), (181, 275), (180, 275), (179, 275), (178, 275), (177, 275), (176, 275), (175, 275), (174, 275), (173, 275), (172, 275), (89, 224), (78, 203), (78, 202), (78, 201), (76, 194), (76, 193), (76, 192), (76, 191), (76, 190), (76, 189), (76, 188), (76, 187), (76, 186), (76, 185), (76, 184), (76, 183), (76, 182), (76, 181), (76, 180), (76, 179), (84, 144)]\n",
      "As lines\n",
      "[[(154, 68), (155, 68), (156, 68), (157, 68), (158, 68), (159, 68), (160, 68), (161, 68), (162, 68), (163, 68), (164, 68), (165, 68), (166, 68), (167, 68), (168, 68)], [(168, 68), (173, 69)], [(173, 69), (174, 69), (175, 69), (176, 69)], [(176, 69), (182, 70)], [(182, 70), (183, 70)], [(183, 70), (189, 71)], [(189, 71), (190, 71)], [(190, 71), (194, 73)], [(194, 73), (197, 74)], [(197, 74), (198, 74), (199, 74), (200, 74), (201, 74)], [(201, 74), (205, 73)], [(205, 73), (206, 73)], [(206, 73), (210, 72)], [(210, 72), (211, 72)], [(211, 72), (229, 89)], [(229, 89), (229, 90), (229, 91), (229, 92), (229, 93), (229, 94), (229, 95), (229, 96), (229, 97), (229, 98)], [(229, 98), (231, 105)], [(231, 105), (248, 123)], [(248, 123), (293, 153)], [(293, 153), (293, 154), (293, 155), (293, 156)], [(293, 156), (292, 161)], [(292, 161), (185, 275)], [(185, 275), (184, 275), (183, 275), (182, 275), (181, 275), (180, 275), (179, 275), (178, 275), (177, 275), (176, 275), (175, 275), (174, 275), (173, 275), (172, 275)], [(172, 275), (89, 224)], [(89, 224), (78, 203)], [(78, 203), (78, 202), (78, 201)], [(78, 201), (76, 194)], [(76, 194), (76, 193), (76, 192), (76, 191), (76, 190), (76, 189), (76, 188), (76, 187), (76, 186), (76, 185), (76, 184), (76, 183), (76, 182), (76, 181), (76, 180)]]\n"
     ]
    },
    {
     "data": {
      "image/png": "[encoded data removed]",
      "text/plain": [
       "<Figure size 432x288 with 1 Axes>"
      ]
     },
     "metadata": {
      "needs_background": "light"
     },
     "output_type": "display_data"
    }
   ],
   "source": [
    "imgArr=load_png_to_array()\n",
    "x = create_new_img(imgArr, trace_line(reduce_line_thickness(imgArr)))"
   ]
  }
 ],
 "metadata": {
  "interpreter": {
   "hash": "63fd5069d213b44bf678585dea6b12cceca9941eaf7f819626cde1f2670de90d"
  },
  "kernelspec": {
   "display_name": "Python 3.9.2 64-bit",
   "language": "python",
   "name": "python3"
  },
  "language_info": {
   "codemirror_mode": {
    "name": "ipython",
    "version": 3
   },
   "file_extension": ".py",
   "mimetype": "text/x-python",
   "name": "python",
   "nbconvert_exporter": "python",
   "pygments_lexer": "ipython3",
   "version": "3.9.2"
  },
  "orig_nbformat": 4
 },
 "nbformat": 4,
 "nbformat_minor": 2
}
